{
 "cells": [
  {
   "cell_type": "code",
   "execution_count": 1,
   "metadata": {},
   "outputs": [],
   "source": [
    "import number_recognition as nr\n",
    "import matplotlib.pyplot as plt\n",
    "import numpy as np"
   ]
  },
  {
   "cell_type": "code",
   "execution_count": 2,
   "metadata": {},
   "outputs": [],
   "source": [
    "def load_weights():\n",
    "    return predicted_values"
   ]
  },
  {
   "cell_type": "code",
   "execution_count": 1,
   "metadata": {},
   "outputs": [],
   "source": [
    "import os.path\n",
    "import matplotlib.pyplot as plt\n",
    "import matplotlib.patches as mpatches\n",
    "import scipy.io\n",
    "import operator\n",
    "import scipy.optimize as opt\n",
    "from scipy.optimize import fmin_bfgs, minimize  # imports the BFGS algorithm to minimize\n",
    "import numpy as np\n",
    "import warnings\n",
    "\n",
    "warnings.filterwarnings(\"ignore\", category=RuntimeWarning)"
   ]
  },
  {
   "cell_type": "code",
   "execution_count": 2,
   "metadata": {},
   "outputs": [
    {
     "ename": "SyntaxError",
     "evalue": "invalid syntax (<ipython-input-2-52286a02567d>, line 1)",
     "output_type": "error",
     "traceback": [
      "\u001b[0;36m  File \u001b[0;32m\"<ipython-input-2-52286a02567d>\"\u001b[0;36m, line \u001b[0;32m1\u001b[0m\n\u001b[0;31m    ef clear_all():\u001b[0m\n\u001b[0m               ^\u001b[0m\n\u001b[0;31mSyntaxError\u001b[0m\u001b[0;31m:\u001b[0m invalid syntax\n"
     ]
    }
   ],
   "source": [
    "ef clear_all():\n",
    "    gl = globals().copy()\n",
    "    for var in gl:\n",
    "        if var[0] == '_': continue\n",
    "        if 'func' in str(globals()[var]): continue\n",
    "        if 'module' in str(globals()[var]): continue\n",
    "        del globals()[var]"
   ]
  },
  {
   "cell_type": "code",
   "execution_count": 3,
   "metadata": {},
   "outputs": [],
   "source": [
    "def clear_all():\n",
    "    gl = globals().copy()\n",
    "    for var in gl:\n",
    "        if var[0] == '_': continue\n",
    "        if 'func' in str(globals()[var]): continue\n",
    "        if 'module' in str(globals()[var]): continue\n",
    "        del globals()[var]"
   ]
  },
  {
   "cell_type": "code",
   "execution_count": 4,
   "metadata": {},
   "outputs": [
    {
     "name": "stdout",
     "output_type": "stream",
     "text": [
      "\u001b[H\u001b[2J"
     ]
    }
   ],
   "source": [
    "clear();"
   ]
  },
  {
   "cell_type": "code",
   "execution_count": 5,
   "metadata": {},
   "outputs": [],
   "source": [
    "def display_sample_images(X, sample_size, sample_shape, image_resolution, pad):\n",
    "    # validate imputs\n",
    "    if sample_shape[0] * sample_shape[1] != sample_size:\n",
    "        print \"Sorry, sample size does not match with the sample shape\"\n",
    "        return\n",
    "    elif image_resolution[0] * image_resolution[1] != X.shape[1]:\n",
    "        print \"Sorry, image resolution does not match with the image size\"\n",
    "        return\n",
    "    random_indices = np.random.randint(low=0, high=X.shape[0], size=sample_size)\n",
    "    sel = X[random_indices[:], :]\n",
    "    image_height = image_resolution[0]\n",
    "    image_width = image_resolution[1]\n",
    "    sample_rows = sample_shape[0]\n",
    "    sample_cols = sample_shape[1]\n",
    "    # set up blank display frame\n",
    "    display_frame = - np.ones(shape=((pad + image_height) * sample_rows + pad, (pad + image_width) * sample_cols + pad))\n",
    "    # putting each patch in the display_frame\n",
    "    current_image = 0\n",
    "    for row in range(0, sample_rows):\n",
    "        for col in range(0, sample_cols):\n",
    "            max_val = np.amax(abs(sel[current_image, :]))\n",
    "            display_frame[(image_height + pad) * row + 1: (image_height + pad) * (row + 1),\n",
    "            (image_width + pad) * col + 1: (image_width + pad) * (1 + col)] \\\n",
    "                = np.reshape(sel[current_image, :], (image_height, image_width))\n",
    "            current_image = current_image + 1\n",
    "    plt.imshow(np.transpose(display_frame), origin='upper', cmap='gray')\n",
    "    plt.show()\n",
    "    return"
   ]
  },
  {
   "cell_type": "code",
   "execution_count": 22,
   "metadata": {},
   "outputs": [],
   "source": [
    "def check_n_load_dotmat_file(filename):\n",
    "    data = scipy.io.loadmat(filename)\n",
    "    returndict = {}\n",
    "    count = 0\n",
    "    for i in sorted(data.keys()):\n",
    "        if os.path.exists(i.upper() + \".csv\"):\n",
    "            returndict[i.upper()] = np.mat(np.genfromtxt((i.upper() + \".csv\"), delimiter=','))\n",
    "            continue\n",
    "        if '__' not in i and 'readme' not in i:\n",
    "            np.savetxt((i.upper() + \".csv\"), data[i], delimiter=',')\n",
    "            print \"Creating variable \" + i.upper()\n",
    "            returndict[i.upper()] = np.mat(np.genfromtxt((i.upper() + \".csv\"), delimiter=','))\n",
    "            count = count + 1\n",
    "    variables = [item.strip().upper() for item in sorted(data.keys()) if \"__\" not in item]\n",
    "    print len(variables).__str__() + \" elements found in the matlab data file, \" + str(count) + \" loaded\"\n",
    "    return returndict"
   ]
  },
  {
   "cell_type": "code",
   "execution_count": 9,
   "metadata": {},
   "outputs": [],
   "source": [
    "def nnCostFunction(nn_params, input_layer_size, hidden_layer_size, num_labels, X, Y, lmbd):\n",
    "    # unroll thetas\n",
    "    Theta1 = np.reshape(nn_params[0:hidden_layer_size * (input_layer_size + 1)], newshape=(hidden_layer_size, (input_layer_size + 1)), order='F')\n",
    "    Theta2 = np.reshape(nn_params[(hidden_layer_size * (input_layer_size + 1)):], newshape=(num_labels, (hidden_layer_size + 1)), order='F')\n",
    "    m = X.shape[0]\n",
    "    Theta1_grad = np.zeros(shape=(Theta1.shape))\n",
    "    Theta2_grad = np.zeros(shape=(Theta2.shape))\n",
    "    # for input Layer l=1\n",
    "    A1 = np.append(np.ones(shape=(m,1)),X, 1)\n",
    "    # for hidden layer l=2\n",
    "    Z2 = np.dot(A1, Theta1.transpose())\n",
    "    A2 = sigmoid(Z2)\n",
    "    A2 = np.append(np.ones(shape=(m,1)),A2, 1)\n",
    "    # for output layer l=3\n",
    "    Z3 = np.dot(A2, Theta2.transpose())\n",
    "    h_theta = sigmoid(Z3)\n",
    "    #print \"Y.shape =\", Y.shape\n",
    "    #print \"Y.type = \", type(Y)\n",
    "    #print \"Y.property = \", property(Y)\n",
    "    new_y = np.zeros(shape=(m, num_labels))\n",
    "    #print \"New_Y.shape =\", new_y.shape\n",
    "    #print \"New_Y.type = \", type(new_y)\n",
    "    #print \"New_Y.property = \", property(new_y)\n",
    "    for i in range(0, int(Y.shape[0])):\n",
    "        new_y[i, int((Y[i,:]-1))] = 1.0\n",
    "    cost = np.sum((np.multiply(new_y, np.log(h_theta)) + np.multiply((1 - new_y), np.log(1 - h_theta))),1)\n",
    "    theta1ExcludingBias = Theta1[:, 2:]\n",
    "    theta2ExcludingBias = Theta2[:, 2:]\n",
    "    reg1 = np.sum(np.sum(np.square(theta1ExcludingBias)))\n",
    "    reg2 = np.sum(np.sum(np.square(theta2ExcludingBias)))\n",
    "    regularization_term = lmbd * (reg1+reg2) / (2 * m)\n",
    "    J = -np.sum(cost,0) / m + regularization_term\n",
    "    grad = backpropagation(Theta1,Theta2,m,X,Y,new_y,h_theta)\n",
    "    return J, grad"
   ]
  },
  {
   "cell_type": "code",
   "execution_count": 10,
   "metadata": {},
   "outputs": [],
   "source": [
    "def sigmoidgradient(z):\n",
    "    g = np.zeros(shape=(z.shape))\n",
    "    A = sigmoid(z)\n",
    "    g = np.multiply(A,(1-A))\n",
    "    return g"
   ]
  },
  {
   "cell_type": "code",
   "execution_count": 34,
   "metadata": {},
   "outputs": [],
   "source": [
    "def backpropagation(Theta1, Theta2, m, X, Y, new_y, h_theta):\n",
    "    capitaldelta1 = np.zeros(shape=(Theta1.shape))\n",
    "    capitaldelta2 = np.zeros(shape=(Theta2.shape))\n",
    "    for i in range(0, m):    # for each sample\n",
    "        # for input Layer l=1\n",
    "        X1_ith = np.mat(X[i,:])\n",
    "        A1_ith = np.append([[1]],X1_ith,1)\n",
    "        # for hidden layer l=2\n",
    "        Z2_ith = np.dot(A1_ith, Theta1.transpose())\n",
    "        A2_ith = sigmoid(Z2_ith)\n",
    "        A2_ith = np.append([[1]], A2_ith, 1)\n",
    "        # for output layer l=3\n",
    "        Z3_ith = np.dot(A2_ith, Theta2.transpose())\n",
    "        A3_ith = sigmoid(Z3_ith)\n",
    "        # for small delta values\n",
    "        delta3_ith = A3_ith - new_y[i,:]\n",
    "        delta2_ith = np.multiply((np.dot(Theta2.transpose(),delta3_ith.transpose())).transpose(),sigmoidgradient(np.append([[1]],Z2_ith,1).transpose())).transpose()\n",
    "        delta2_ith = delta2_ith[1:]  #taking off the biased row\n",
    "        capitaldelta2 = np.dot(capitaldelta2 + delta3_ith.transpose(), A2_ith.transpose())\n",
    "        capitaldelta1 = np.dot(capitaldelta1 + delta2_ith.transpose(), A1_ith.transpose())\n",
    "    theta1ExcludingBias = Theta1[:, 1:]\n",
    "    theta2ExcludingBias = Theta2[:, 1:]\n",
    "    Theta1ZeroedBias = np.append(np.zeros(shape=(Theta1.shape[0], 1)), theta1ExcludingBias,1)\n",
    "    Theta2ZeroedBias = np.append(np.zeros(shape=(Theta2.shape[0], 1)), theta2ExcludingBias, 1)\n",
    "    Theta1_grad = (1 / m) * capitaldelta1 + (lmbd / m) * Theta1ZeroedBias\n",
    "    Theta2_grad = (1 / m) * capitaldelta2 + (lmbd / m) * Theta2ZeroedBias\n",
    "    # Unroll gradients\n",
    "    grad = np.append(Theta1_grad.flatten('F'), Theta2_grad.flatten('F'), axis=0)\n",
    "    return grad"
   ]
  },
  {
   "cell_type": "code",
   "execution_count": 12,
   "metadata": {},
   "outputs": [],
   "source": [
    "def sigmoid(X):\n",
    "    return 1 / (1 + np.exp(- X))"
   ]
  },
  {
   "cell_type": "code",
   "execution_count": 13,
   "metadata": {},
   "outputs": [],
   "source": [
    "def GradientFunction(theta, X, Y, lmbd):\n",
    "    hypothesis = sigmoid(np.dot(X, theta))\n",
    "    error = hypothesis - Y.transpose()\n",
    "    grad = np.dot(error, X) / Y.size\n",
    "    reg_term = lmbd * theta[1:theta.shape[0] + 1] / np.float(X.shape[0])  # mind that we don't have to include theta0\n",
    "    # print reg_term.shape # this should be one less than size of theta\n",
    "    gradient = grad + np.append(np.array([0]), reg_term)\n",
    "    return gradient.transpose()"
   ]
  },
  {
   "cell_type": "code",
   "execution_count": 14,
   "metadata": {},
   "outputs": [],
   "source": [
    "def randInitializeWeights(l_in, l_out):\n",
    "    W = np.zeros(shape=(l_out, l_in+1))\n",
    "    INIT_EPSILON = pow(10,-4)\n",
    "    random_matrix = np.random.randint(low=0, high=1, size=(l_out, l_in+1))\n",
    "    W = np.dot(random_matrix, (2 * INIT_EPSILON) - INIT_EPSILON)\n",
    "    return W"
   ]
  },
  {
   "cell_type": "code",
   "execution_count": 15,
   "metadata": {},
   "outputs": [],
   "source": [
    "def debugInitializeWeights(fan_out, fan_in):\n",
    "    W = np.zeros(shape=(fan_out, fan_in+1))\n",
    "    random_matrix = np.reshape(np.sin(range(0,W.size,1)), newshape=(W.shape))/10\n",
    "    return random_matrix"
   ]
  },
  {
   "cell_type": "code",
   "execution_count": 16,
   "metadata": {},
   "outputs": [],
   "source": [
    "def checkNNGradients():\n",
    "    lmbd = 0\n",
    "    input_layer_size = 3\n",
    "    hidden_layer_size = 5\n",
    "    num_labels = 3\n",
    "    m = 5\n",
    "    # We generate some 'random'test data\n",
    "    Theta1 = debugInitializeWeights(hidden_layer_size, input_layer_size)\n",
    "    Theta2 = debugInitializeWeights(num_labels, hidden_layer_size)\n",
    "    X = debugInitializeWeights(m, input_layer_size - 1)\n",
    "    Y = np.mat(1+np.mod(range(1,m+1),num_labels)).transpose()\n",
    "    nn_params = np.append(Theta1.flatten('F'), Theta2.flatten('F'), axis=0)\n",
    "    (cost, grad) = nnCostFunction(nn_params,input_layer_size,hidden_layer_size, num_labels, X, Y, lmbd)\n",
    "    print grad\n",
    "    return"
   ]
  },
  {
   "cell_type": "code",
   "execution_count": 17,
   "metadata": {},
   "outputs": [],
   "source": [
    "input_layer_size = 400"
   ]
  },
  {
   "cell_type": "code",
   "execution_count": 19,
   "metadata": {},
   "outputs": [],
   "source": [
    "hidden_layer_size = 25   # 25 hidden units\n",
    "num_labels = 10         "
   ]
  },
  {
   "cell_type": "code",
   "execution_count": 23,
   "metadata": {},
   "outputs": [
    {
     "name": "stdout",
     "output_type": "stream",
     "text": [
      "2 elements found in the matlab data file, 0 loaded\n"
     ]
    }
   ],
   "source": [
    "data = check_n_load_dotmat_file(r\"/Users/nishantkumar/ML Coursera/programming assignment/machine-learning-coursera/python-ml/machine-learning-ex4/ex4data1.mat\")"
   ]
  },
  {
   "cell_type": "code",
   "execution_count": 24,
   "metadata": {},
   "outputs": [],
   "source": [
    "X = data['X']   # m X number_of_features matrix\n",
    "Y = data['Y']   # 1 x m matrix\n",
    "Y = Y.transpose() "
   ]
  },
  {
   "cell_type": "code",
   "execution_count": 25,
   "metadata": {},
   "outputs": [
    {
     "data": {
      "text/plain": [
       "matrix([[0., 0., 0., ..., 0., 0., 0.],\n",
       "        [0., 0., 0., ..., 0., 0., 0.],\n",
       "        [0., 0., 0., ..., 0., 0., 0.],\n",
       "        ...,\n",
       "        [0., 0., 0., ..., 0., 0., 0.],\n",
       "        [0., 0., 0., ..., 0., 0., 0.],\n",
       "        [0., 0., 0., ..., 0., 0., 0.]])"
      ]
     },
     "execution_count": 25,
     "metadata": {},
     "output_type": "execute_result"
    }
   ],
   "source": [
    "X"
   ]
  },
  {
   "cell_type": "code",
   "execution_count": 27,
   "metadata": {},
   "outputs": [
    {
     "name": "stdout",
     "output_type": "stream",
     "text": [
      "2 elements found in the matlab data file, 0 loaded\n"
     ]
    }
   ],
   "source": [
    "params = check_n_load_dotmat_file(r\"/Users/nishantkumar/ML Coursera/programming assignment/machine-learning-coursera/python-ml/machine-learning-ex4/ex4weights.mat\")"
   ]
  },
  {
   "cell_type": "code",
   "execution_count": 35,
   "metadata": {
    "scrolled": true
   },
   "outputs": [
    {
     "ename": "ValueError",
     "evalue": "shapes (6,5) and (4,1) not aligned: 5 (dim 1) != 4 (dim 0)",
     "output_type": "error",
     "traceback": [
      "\u001b[0;31m---------------------------------------------------------------------------\u001b[0m",
      "\u001b[0;31mValueError\u001b[0m                                Traceback (most recent call last)",
      "\u001b[0;32m<ipython-input-35-eae675562921>\u001b[0m in \u001b[0;36m<module>\u001b[0;34m()\u001b[0m\n\u001b[0;32m----> 1\u001b[0;31m \u001b[0mcheckNNGradients\u001b[0m\u001b[0;34m(\u001b[0m\u001b[0;34m)\u001b[0m\u001b[0;34m\u001b[0m\u001b[0m\n\u001b[0m",
      "\u001b[0;32m<ipython-input-16-54407972b381>\u001b[0m in \u001b[0;36mcheckNNGradients\u001b[0;34m()\u001b[0m\n\u001b[1;32m     11\u001b[0m     \u001b[0mY\u001b[0m \u001b[0;34m=\u001b[0m \u001b[0mnp\u001b[0m\u001b[0;34m.\u001b[0m\u001b[0mmat\u001b[0m\u001b[0;34m(\u001b[0m\u001b[0;36m1\u001b[0m\u001b[0;34m+\u001b[0m\u001b[0mnp\u001b[0m\u001b[0;34m.\u001b[0m\u001b[0mmod\u001b[0m\u001b[0;34m(\u001b[0m\u001b[0mrange\u001b[0m\u001b[0;34m(\u001b[0m\u001b[0;36m1\u001b[0m\u001b[0;34m,\u001b[0m\u001b[0mm\u001b[0m\u001b[0;34m+\u001b[0m\u001b[0;36m1\u001b[0m\u001b[0;34m)\u001b[0m\u001b[0;34m,\u001b[0m\u001b[0mnum_labels\u001b[0m\u001b[0;34m)\u001b[0m\u001b[0;34m)\u001b[0m\u001b[0;34m.\u001b[0m\u001b[0mtranspose\u001b[0m\u001b[0;34m(\u001b[0m\u001b[0;34m)\u001b[0m\u001b[0;34m\u001b[0m\u001b[0m\n\u001b[1;32m     12\u001b[0m     \u001b[0mnn_params\u001b[0m \u001b[0;34m=\u001b[0m \u001b[0mnp\u001b[0m\u001b[0;34m.\u001b[0m\u001b[0mappend\u001b[0m\u001b[0;34m(\u001b[0m\u001b[0mTheta1\u001b[0m\u001b[0;34m.\u001b[0m\u001b[0mflatten\u001b[0m\u001b[0;34m(\u001b[0m\u001b[0;34m'F'\u001b[0m\u001b[0;34m)\u001b[0m\u001b[0;34m,\u001b[0m \u001b[0mTheta2\u001b[0m\u001b[0;34m.\u001b[0m\u001b[0mflatten\u001b[0m\u001b[0;34m(\u001b[0m\u001b[0;34m'F'\u001b[0m\u001b[0;34m)\u001b[0m\u001b[0;34m,\u001b[0m \u001b[0maxis\u001b[0m\u001b[0;34m=\u001b[0m\u001b[0;36m0\u001b[0m\u001b[0;34m)\u001b[0m\u001b[0;34m\u001b[0m\u001b[0m\n\u001b[0;32m---> 13\u001b[0;31m     \u001b[0;34m(\u001b[0m\u001b[0mcost\u001b[0m\u001b[0;34m,\u001b[0m \u001b[0mgrad\u001b[0m\u001b[0;34m)\u001b[0m \u001b[0;34m=\u001b[0m \u001b[0mnnCostFunction\u001b[0m\u001b[0;34m(\u001b[0m\u001b[0mnn_params\u001b[0m\u001b[0;34m,\u001b[0m\u001b[0minput_layer_size\u001b[0m\u001b[0;34m,\u001b[0m\u001b[0mhidden_layer_size\u001b[0m\u001b[0;34m,\u001b[0m \u001b[0mnum_labels\u001b[0m\u001b[0;34m,\u001b[0m \u001b[0mX\u001b[0m\u001b[0;34m,\u001b[0m \u001b[0mY\u001b[0m\u001b[0;34m,\u001b[0m \u001b[0mlmbd\u001b[0m\u001b[0;34m)\u001b[0m\u001b[0;34m\u001b[0m\u001b[0m\n\u001b[0m\u001b[1;32m     14\u001b[0m     \u001b[0;32mprint\u001b[0m \u001b[0mgrad\u001b[0m\u001b[0;34m\u001b[0m\u001b[0m\n\u001b[1;32m     15\u001b[0m     \u001b[0;32mreturn\u001b[0m\u001b[0;34m\u001b[0m\u001b[0m\n",
      "\u001b[0;32m<ipython-input-9-77bfa5e2db91>\u001b[0m in \u001b[0;36mnnCostFunction\u001b[0;34m(nn_params, input_layer_size, hidden_layer_size, num_labels, X, Y, lmbd)\u001b[0m\n\u001b[1;32m     31\u001b[0m     \u001b[0mregularization_term\u001b[0m \u001b[0;34m=\u001b[0m \u001b[0mlmbd\u001b[0m \u001b[0;34m*\u001b[0m \u001b[0;34m(\u001b[0m\u001b[0mreg1\u001b[0m\u001b[0;34m+\u001b[0m\u001b[0mreg2\u001b[0m\u001b[0;34m)\u001b[0m \u001b[0;34m/\u001b[0m \u001b[0;34m(\u001b[0m\u001b[0;36m2\u001b[0m \u001b[0;34m*\u001b[0m \u001b[0mm\u001b[0m\u001b[0;34m)\u001b[0m\u001b[0;34m\u001b[0m\u001b[0m\n\u001b[1;32m     32\u001b[0m     \u001b[0mJ\u001b[0m \u001b[0;34m=\u001b[0m \u001b[0;34m-\u001b[0m\u001b[0mnp\u001b[0m\u001b[0;34m.\u001b[0m\u001b[0msum\u001b[0m\u001b[0;34m(\u001b[0m\u001b[0mcost\u001b[0m\u001b[0;34m,\u001b[0m\u001b[0;36m0\u001b[0m\u001b[0;34m)\u001b[0m \u001b[0;34m/\u001b[0m \u001b[0mm\u001b[0m \u001b[0;34m+\u001b[0m \u001b[0mregularization_term\u001b[0m\u001b[0;34m\u001b[0m\u001b[0m\n\u001b[0;32m---> 33\u001b[0;31m     \u001b[0mgrad\u001b[0m \u001b[0;34m=\u001b[0m \u001b[0mbackpropagation\u001b[0m\u001b[0;34m(\u001b[0m\u001b[0mTheta1\u001b[0m\u001b[0;34m,\u001b[0m\u001b[0mTheta2\u001b[0m\u001b[0;34m,\u001b[0m\u001b[0mm\u001b[0m\u001b[0;34m,\u001b[0m\u001b[0mX\u001b[0m\u001b[0;34m,\u001b[0m\u001b[0mY\u001b[0m\u001b[0;34m,\u001b[0m\u001b[0mnew_y\u001b[0m\u001b[0;34m,\u001b[0m\u001b[0mh_theta\u001b[0m\u001b[0;34m)\u001b[0m\u001b[0;34m\u001b[0m\u001b[0m\n\u001b[0m\u001b[1;32m     34\u001b[0m     \u001b[0;32mreturn\u001b[0m \u001b[0mJ\u001b[0m\u001b[0;34m,\u001b[0m \u001b[0mgrad\u001b[0m\u001b[0;34m\u001b[0m\u001b[0m\n",
      "\u001b[0;32m<ipython-input-34-2b380507e6bf>\u001b[0m in \u001b[0;36mbackpropagation\u001b[0;34m(Theta1, Theta2, m, X, Y, new_y, h_theta)\u001b[0m\n\u001b[1;32m     18\u001b[0m         \u001b[0mdelta2_ith\u001b[0m \u001b[0;34m=\u001b[0m \u001b[0mdelta2_ith\u001b[0m\u001b[0;34m[\u001b[0m\u001b[0;36m1\u001b[0m\u001b[0;34m:\u001b[0m\u001b[0;34m]\u001b[0m  \u001b[0;31m#taking off the biased row\u001b[0m\u001b[0;34m\u001b[0m\u001b[0m\n\u001b[1;32m     19\u001b[0m         \u001b[0mcapitaldelta2\u001b[0m \u001b[0;34m=\u001b[0m \u001b[0mnp\u001b[0m\u001b[0;34m.\u001b[0m\u001b[0mdot\u001b[0m\u001b[0;34m(\u001b[0m\u001b[0mcapitaldelta2\u001b[0m \u001b[0;34m+\u001b[0m \u001b[0mdelta3_ith\u001b[0m\u001b[0;34m.\u001b[0m\u001b[0mtranspose\u001b[0m\u001b[0;34m(\u001b[0m\u001b[0;34m)\u001b[0m\u001b[0;34m,\u001b[0m \u001b[0mA2_ith\u001b[0m\u001b[0;34m.\u001b[0m\u001b[0mtranspose\u001b[0m\u001b[0;34m(\u001b[0m\u001b[0;34m)\u001b[0m\u001b[0;34m)\u001b[0m\u001b[0;34m\u001b[0m\u001b[0m\n\u001b[0;32m---> 20\u001b[0;31m         \u001b[0mcapitaldelta1\u001b[0m \u001b[0;34m=\u001b[0m \u001b[0mcapitaldelta1\u001b[0m \u001b[0;34m+\u001b[0m \u001b[0mnp\u001b[0m\u001b[0;34m.\u001b[0m\u001b[0mdot\u001b[0m\u001b[0;34m(\u001b[0m\u001b[0mdelta2_ith\u001b[0m\u001b[0;34m.\u001b[0m\u001b[0mtranspose\u001b[0m\u001b[0;34m(\u001b[0m\u001b[0;34m)\u001b[0m\u001b[0;34m,\u001b[0m \u001b[0mA1_ith\u001b[0m\u001b[0;34m.\u001b[0m\u001b[0mtranspose\u001b[0m\u001b[0;34m(\u001b[0m\u001b[0;34m)\u001b[0m\u001b[0;34m)\u001b[0m\u001b[0;34m\u001b[0m\u001b[0m\n\u001b[0m\u001b[1;32m     21\u001b[0m     \u001b[0mtheta1ExcludingBias\u001b[0m \u001b[0;34m=\u001b[0m \u001b[0mTheta1\u001b[0m\u001b[0;34m[\u001b[0m\u001b[0;34m:\u001b[0m\u001b[0;34m,\u001b[0m \u001b[0;36m1\u001b[0m\u001b[0;34m:\u001b[0m\u001b[0;34m]\u001b[0m\u001b[0;34m\u001b[0m\u001b[0m\n\u001b[1;32m     22\u001b[0m     \u001b[0mtheta2ExcludingBias\u001b[0m \u001b[0;34m=\u001b[0m \u001b[0mTheta2\u001b[0m\u001b[0;34m[\u001b[0m\u001b[0;34m:\u001b[0m\u001b[0;34m,\u001b[0m \u001b[0;36m1\u001b[0m\u001b[0;34m:\u001b[0m\u001b[0;34m]\u001b[0m\u001b[0;34m\u001b[0m\u001b[0m\n",
      "\u001b[0;31mValueError\u001b[0m: shapes (6,5) and (4,1) not aligned: 5 (dim 1) != 4 (dim 0)"
     ]
    }
   ],
   "source": [
    "checkNNGradients()"
   ]
  },
  {
   "cell_type": "code",
   "execution_count": 36,
   "metadata": {},
   "outputs": [],
   "source": [
    "lmbd = 0\n",
    "input_layer_size = 3\n",
    "hidden_layer_size = 5\n",
    "num_labels = 3\n",
    "m = 5\n",
    "# We generate some 'random'test data\n",
    "Theta1 = debugInitializeWeights(hidden_layer_size, input_layer_size)\n",
    "Theta2 = debugInitializeWeights(num_labels, hidden_layer_size)\n",
    "X = debugInitializeWeights(m, input_layer_size - 1)\n",
    "Y = np.mat(1+np.mod(range(1,m+1),num_labels)).transpose()\n",
    "nn_params = np.append(Theta1.flatten('F'), Theta2.flatten('F'), axis=0)"
   ]
  },
  {
   "cell_type": "code",
   "execution_count": 37,
   "metadata": {},
   "outputs": [
    {
     "data": {
      "text/plain": [
       "5"
      ]
     },
     "execution_count": 37,
     "metadata": {},
     "output_type": "execute_result"
    }
   ],
   "source": [
    "X.shape[0]"
   ]
  },
  {
   "cell_type": "code",
   "execution_count": 38,
   "metadata": {},
   "outputs": [
    {
     "data": {
      "text/plain": [
       "(5, 4)"
      ]
     },
     "execution_count": 38,
     "metadata": {},
     "output_type": "execute_result"
    }
   ],
   "source": [
    "Theta1.shape"
   ]
  },
  {
   "cell_type": "code",
   "execution_count": 39,
   "metadata": {},
   "outputs": [
    {
     "data": {
      "text/plain": [
       "(3, 6)"
      ]
     },
     "execution_count": 39,
     "metadata": {},
     "output_type": "execute_result"
    }
   ],
   "source": [
    "Theta2.shape"
   ]
  },
  {
   "cell_type": "code",
   "execution_count": 40,
   "metadata": {},
   "outputs": [
    {
     "data": {
      "text/plain": [
       "array([[ 0.        ,  0.0841471 ,  0.09092974,  0.014112  ],\n",
       "       [-0.07568025, -0.09589243, -0.02794155,  0.06569866],\n",
       "       [ 0.09893582,  0.04121185, -0.05440211, -0.09999902],\n",
       "       [-0.05365729,  0.0420167 ,  0.09906074,  0.06502878],\n",
       "       [-0.02879033, -0.09613975, -0.07509872,  0.01498772]])"
      ]
     },
     "execution_count": 40,
     "metadata": {},
     "output_type": "execute_result"
    }
   ],
   "source": [
    "Theta1"
   ]
  },
  {
   "cell_type": "code",
   "execution_count": 41,
   "metadata": {},
   "outputs": [
    {
     "data": {
      "text/plain": [
       "(5, 3)"
      ]
     },
     "execution_count": 41,
     "metadata": {},
     "output_type": "execute_result"
    }
   ],
   "source": [
    "X.shape"
   ]
  },
  {
   "cell_type": "code",
   "execution_count": 42,
   "metadata": {},
   "outputs": [],
   "source": [
    "Theta1 = np.reshape(nn_params[0:hidden_layer_size * (input_layer_size + 1)], newshape=(hidden_layer_size, (input_layer_size + 1)), order='F')"
   ]
  },
  {
   "cell_type": "code",
   "execution_count": 43,
   "metadata": {},
   "outputs": [],
   "source": [
    "Theta2 = np.reshape(nn_params[(hidden_layer_size * (input_layer_size + 1)):], newshape=(num_labels, (hidden_layer_size + 1)), order='F')"
   ]
  },
  {
   "cell_type": "code",
   "execution_count": 44,
   "metadata": {},
   "outputs": [],
   "source": [
    "A1 = np.append(np.ones(shape=(m,1)),X, 1)"
   ]
  },
  {
   "cell_type": "code",
   "execution_count": 45,
   "metadata": {},
   "outputs": [
    {
     "data": {
      "text/plain": [
       "(5, 4)"
      ]
     },
     "execution_count": 45,
     "metadata": {},
     "output_type": "execute_result"
    }
   ],
   "source": [
    "A1.shape"
   ]
  },
  {
   "cell_type": "code",
   "execution_count": 46,
   "metadata": {},
   "outputs": [],
   "source": [
    "Z2 = np.dot(A1, Theta1.transpose())"
   ]
  },
  {
   "cell_type": "code",
   "execution_count": 47,
   "metadata": {},
   "outputs": [],
   "source": [
    "A2 = sigmoid(Z2)"
   ]
  },
  {
   "cell_type": "code",
   "execution_count": 48,
   "metadata": {},
   "outputs": [],
   "source": [
    "A2 = np.append(np.ones(shape=(m,1)),A2, 1)"
   ]
  },
  {
   "cell_type": "code",
   "execution_count": 49,
   "metadata": {},
   "outputs": [],
   "source": [
    "Z3 = np.dot(A2, Theta2.transpose())"
   ]
  },
  {
   "cell_type": "code",
   "execution_count": 50,
   "metadata": {},
   "outputs": [],
   "source": [
    "h_theta = sigmoid(Z3)"
   ]
  },
  {
   "cell_type": "code",
   "execution_count": 51,
   "metadata": {},
   "outputs": [],
   "source": [
    "new_y = np.zeros(shape=(m, num_labels))"
   ]
  },
  {
   "cell_type": "code",
   "execution_count": 52,
   "metadata": {},
   "outputs": [],
   "source": [
    "for i in range(0, int(Y.shape[0])):\n",
    "    new_y[i, int((Y[i,:]-1))] = 1.0"
   ]
  },
  {
   "cell_type": "code",
   "execution_count": 53,
   "metadata": {},
   "outputs": [],
   "source": [
    "cost = np.sum((np.multiply(new_y, np.log(h_theta)) + np.multiply((1 - new_y), np.log(1 - h_theta))),1)"
   ]
  },
  {
   "cell_type": "code",
   "execution_count": 93,
   "metadata": {},
   "outputs": [
    {
     "data": {
      "text/plain": [
       "array([-2.07873677, -2.08931484, -2.06790388, -2.07874889, -2.08935679])"
      ]
     },
     "execution_count": 93,
     "metadata": {},
     "output_type": "execute_result"
    }
   ],
   "source": [
    "cost"
   ]
  },
  {
   "cell_type": "code",
   "execution_count": 56,
   "metadata": {},
   "outputs": [],
   "source": [
    "theta1ExcludingBias = Theta1[:, 2:]\n",
    "theta2ExcludingBias = Theta2[:, 2:]\n",
    "reg1 = np.sum(np.sum(np.square(theta1ExcludingBias)))\n",
    "reg2 = np.sum(np.sum(np.square(theta2ExcludingBias)))\n",
    "regularization_term = lmbd * (reg1+reg2) / (2 * m)"
   ]
  },
  {
   "cell_type": "code",
   "execution_count": 57,
   "metadata": {},
   "outputs": [],
   "source": [
    "J = -np.sum(cost,0) / m + regularization_term"
   ]
  },
  {
   "cell_type": "code",
   "execution_count": 58,
   "metadata": {},
   "outputs": [
    {
     "data": {
      "text/plain": [
       "2.0808122324743317"
      ]
     },
     "execution_count": 58,
     "metadata": {},
     "output_type": "execute_result"
    }
   ],
   "source": [
    "J"
   ]
  },
  {
   "cell_type": "code",
   "execution_count": 59,
   "metadata": {},
   "outputs": [],
   "source": [
    "capitaldelta1 = np.zeros(shape=(Theta1.shape))\n",
    "capitaldelta2 = np.zeros(shape=(Theta2.shape))"
   ]
  },
  {
   "cell_type": "code",
   "execution_count": 60,
   "metadata": {},
   "outputs": [
    {
     "data": {
      "text/plain": [
       "(5, 4)"
      ]
     },
     "execution_count": 60,
     "metadata": {},
     "output_type": "execute_result"
    }
   ],
   "source": [
    "capitaldelta1.shape"
   ]
  },
  {
   "cell_type": "code",
   "execution_count": 61,
   "metadata": {},
   "outputs": [
    {
     "data": {
      "text/plain": [
       "array([[ 0.        ,  0.0841471 ,  0.09092974],\n",
       "       [ 0.014112  , -0.07568025, -0.09589243],\n",
       "       [-0.02794155,  0.06569866,  0.09893582],\n",
       "       [ 0.04121185, -0.05440211, -0.09999902],\n",
       "       [-0.05365729,  0.0420167 ,  0.09906074]])"
      ]
     },
     "execution_count": 61,
     "metadata": {},
     "output_type": "execute_result"
    }
   ],
   "source": [
    "X"
   ]
  },
  {
   "cell_type": "code",
   "execution_count": 62,
   "metadata": {},
   "outputs": [
    {
     "data": {
      "text/plain": [
       "(5, 3)"
      ]
     },
     "execution_count": 62,
     "metadata": {},
     "output_type": "execute_result"
    }
   ],
   "source": [
    "X.shape"
   ]
  },
  {
   "cell_type": "code",
   "execution_count": 67,
   "metadata": {},
   "outputs": [],
   "source": [
    "X1_ith = np.mat(X[0,:])"
   ]
  },
  {
   "cell_type": "code",
   "execution_count": 68,
   "metadata": {},
   "outputs": [],
   "source": [
    "A1_ith = np.append([[1]], X1_ith, 1)"
   ]
  },
  {
   "cell_type": "code",
   "execution_count": 69,
   "metadata": {},
   "outputs": [
    {
     "data": {
      "text/plain": [
       "(1, 4)"
      ]
     },
     "execution_count": 69,
     "metadata": {},
     "output_type": "execute_result"
    }
   ],
   "source": [
    "A1_ith.shape"
   ]
  },
  {
   "cell_type": "code",
   "execution_count": 70,
   "metadata": {},
   "outputs": [
    {
     "data": {
      "text/plain": [
       "matrix([[1.        , 0.        , 0.0841471 , 0.09092974]])"
      ]
     },
     "execution_count": 70,
     "metadata": {},
     "output_type": "execute_result"
    }
   ],
   "source": [
    "A1_ith"
   ]
  },
  {
   "cell_type": "code",
   "execution_count": 71,
   "metadata": {},
   "outputs": [],
   "source": [
    "Z2_ith = np.dot(A1_ith, Theta1.transpose())\n",
    "A2_ith = sigmoid(Z2_ith)\n",
    "A2_ith = np.append([[1]], A2_ith, 1)\n",
    "# for output layer l=3\n",
    "Z3_ith = np.dot(A2_ith, Theta2.transpose())\n",
    "A3_ith = sigmoid(Z3_ith)\n"
   ]
  },
  {
   "cell_type": "code",
   "execution_count": 80,
   "metadata": {},
   "outputs": [],
   "source": [
    "delta3_ith = A3_ith - new_y[i,:]"
   ]
  },
  {
   "cell_type": "code",
   "execution_count": 73,
   "metadata": {},
   "outputs": [
    {
     "data": {
      "text/plain": [
       "(1, 5)"
      ]
     },
     "execution_count": 73,
     "metadata": {},
     "output_type": "execute_result"
    }
   ],
   "source": [
    "Z2_ith.shape"
   ]
  },
  {
   "cell_type": "code",
   "execution_count": 76,
   "metadata": {},
   "outputs": [
    {
     "data": {
      "text/plain": [
       "matrix([[0.50230343, 0.49960094, 0.49693025]])"
      ]
     },
     "execution_count": 76,
     "metadata": {},
     "output_type": "execute_result"
    }
   ],
   "source": [
    "A3_ith"
   ]
  },
  {
   "cell_type": "code",
   "execution_count": 79,
   "metadata": {},
   "outputs": [],
   "source": [
    "i=0"
   ]
  },
  {
   "cell_type": "code",
   "execution_count": 81,
   "metadata": {},
   "outputs": [
    {
     "data": {
      "text/plain": [
       "(1, 3)"
      ]
     },
     "execution_count": 81,
     "metadata": {},
     "output_type": "execute_result"
    }
   ],
   "source": [
    "delta3_ith.shape"
   ]
  },
  {
   "cell_type": "code",
   "execution_count": 82,
   "metadata": {},
   "outputs": [
    {
     "data": {
      "text/plain": [
       "matrix([[ 0.50230343, -0.50039906,  0.49693025]])"
      ]
     },
     "execution_count": 82,
     "metadata": {},
     "output_type": "execute_result"
    }
   ],
   "source": [
    "delta3_ith"
   ]
  },
  {
   "cell_type": "code",
   "execution_count": 115,
   "metadata": {},
   "outputs": [
    {
     "ename": "TypeError",
     "evalue": "return arrays must be of ArrayType",
     "output_type": "error",
     "traceback": [
      "\u001b[0;31m---------------------------------------------------------------------------\u001b[0m",
      "\u001b[0;31mTypeError\u001b[0m                                 Traceback (most recent call last)",
      "\u001b[0;32m<ipython-input-115-dd67a7324a6b>\u001b[0m in \u001b[0;36m<module>\u001b[0;34m()\u001b[0m\n\u001b[0;32m----> 1\u001b[0;31m \u001b[0mdelta2_ith\u001b[0m \u001b[0;34m=\u001b[0m \u001b[0mnp\u001b[0m\u001b[0;34m.\u001b[0m\u001b[0mmultiply\u001b[0m\u001b[0;34m(\u001b[0m\u001b[0;34m(\u001b[0m\u001b[0mnp\u001b[0m\u001b[0;34m.\u001b[0m\u001b[0mdot\u001b[0m\u001b[0;34m(\u001b[0m\u001b[0mTheta2\u001b[0m\u001b[0;34m.\u001b[0m\u001b[0mtranspose\u001b[0m\u001b[0;34m(\u001b[0m\u001b[0;34m)\u001b[0m\u001b[0;34m,\u001b[0m\u001b[0mdelta3_ith\u001b[0m\u001b[0;34m.\u001b[0m\u001b[0mtranspose\u001b[0m\u001b[0;34m(\u001b[0m\u001b[0;34m)\u001b[0m\u001b[0;34m)\u001b[0m\u001b[0;34m)\u001b[0m\u001b[0;34m.\u001b[0m\u001b[0mtranspose\u001b[0m\u001b[0;34m(\u001b[0m\u001b[0;34m)\u001b[0m\u001b[0;34m,\u001b[0m \u001b[0msigmoidgradient\u001b[0m\u001b[0;34m(\u001b[0m\u001b[0mnp\u001b[0m\u001b[0;34m.\u001b[0m\u001b[0mappend\u001b[0m\u001b[0;34m(\u001b[0m\u001b[0;34m[\u001b[0m\u001b[0;34m[\u001b[0m\u001b[0;36m1\u001b[0m\u001b[0;34m]\u001b[0m\u001b[0;34m]\u001b[0m\u001b[0;34m,\u001b[0m\u001b[0mZ2_ith\u001b[0m\u001b[0;34m,\u001b[0m\u001b[0;36m1\u001b[0m\u001b[0;34m)\u001b[0m\u001b[0;34m.\u001b[0m\u001b[0mtranspose\u001b[0m\u001b[0;34m(\u001b[0m\u001b[0;34m)\u001b[0m\u001b[0;34m)\u001b[0m\u001b[0;34m,\u001b[0m\u001b[0;36m1\u001b[0m\u001b[0;34m)\u001b[0m\u001b[0;34m.\u001b[0m\u001b[0mtranspose\u001b[0m\u001b[0;34m(\u001b[0m\u001b[0;34m)\u001b[0m\u001b[0;34m\u001b[0m\u001b[0m\n\u001b[0m",
      "\u001b[0;31mTypeError\u001b[0m: return arrays must be of ArrayType"
     ]
    }
   ],
   "source": [
    "delta2_ith = np.multiply((np.dot(Theta2.transpose(),delta3_ith.transpose())).transpose(), sigmoidgradient(np.append([[1]],Z2_ith,1).transpose())).transpose()\n"
   ]
  },
  {
   "cell_type": "code",
   "execution_count": 111,
   "metadata": {},
   "outputs": [
    {
     "data": {
      "text/plain": [
       "(6, 6)"
      ]
     },
     "execution_count": 111,
     "metadata": {},
     "output_type": "execute_result"
    }
   ],
   "source": [
    "delta2_ith.shape"
   ]
  },
  {
   "cell_type": "code",
   "execution_count": 94,
   "metadata": {},
   "outputs": [],
   "source": [
    "delta2_ith = delta2_ith[1:]\n"
   ]
  },
  {
   "cell_type": "code",
   "execution_count": 87,
   "metadata": {},
   "outputs": [
    {
     "data": {
      "text/plain": [
       "matrix([[1.        , 0.        , 0.0841471 , 0.09092974]])"
      ]
     },
     "execution_count": 87,
     "metadata": {},
     "output_type": "execute_result"
    }
   ],
   "source": [
    "A1_ith"
   ]
  },
  {
   "cell_type": "code",
   "execution_count": 88,
   "metadata": {},
   "outputs": [
    {
     "data": {
      "text/plain": [
       "(5, 4)"
      ]
     },
     "execution_count": 88,
     "metadata": {},
     "output_type": "execute_result"
    }
   ],
   "source": [
    "capitaldelta1.shape"
   ]
  },
  {
   "cell_type": "code",
   "execution_count": 89,
   "metadata": {},
   "outputs": [
    {
     "data": {
      "text/plain": [
       "(5, 4)"
      ]
     },
     "execution_count": 89,
     "metadata": {},
     "output_type": "execute_result"
    }
   ],
   "source": [
    "Theta1.shape"
   ]
  },
  {
   "cell_type": "code",
   "execution_count": 92,
   "metadata": {},
   "outputs": [
    {
     "data": {
      "text/plain": [
       "2.0808122324743317"
      ]
     },
     "execution_count": 92,
     "metadata": {},
     "output_type": "execute_result"
    }
   ],
   "source": [
    "J"
   ]
  },
  {
   "cell_type": "code",
   "execution_count": 98,
   "metadata": {},
   "outputs": [
    {
     "data": {
      "text/plain": [
       "matrix([[-0.01268201],\n",
       "        [ 0.0302712 ],\n",
       "        [ 0.0453932 ],\n",
       "        [ 0.01878091],\n",
       "        [-0.02509847],\n",
       "        [-0.04590243]])"
      ]
     },
     "execution_count": 98,
     "metadata": {},
     "output_type": "execute_result"
    }
   ],
   "source": [
    "np.dot(Theta2.transpose(), delta3_ith.transpose())"
   ]
  },
  {
   "cell_type": "code",
   "execution_count": 100,
   "metadata": {},
   "outputs": [
    {
     "data": {
      "text/plain": [
       "matrix([[-0.01268201,  0.0302712 ,  0.0453932 ,  0.01878091, -0.02509847,\n",
       "         -0.04590243]])"
      ]
     },
     "execution_count": 100,
     "metadata": {},
     "output_type": "execute_result"
    }
   ],
   "source": [
    "np.dot(Theta2.transpose(), delta3_ith.transpose()).transpose()\n"
   ]
  },
  {
   "cell_type": "code",
   "execution_count": null,
   "metadata": {},
   "outputs": [],
   "source": []
  }
 ],
 "metadata": {
  "kernelspec": {
   "display_name": "Python 2",
   "language": "python",
   "name": "python2"
  },
  "language_info": {
   "codemirror_mode": {
    "name": "ipython",
    "version": 2
   },
   "file_extension": ".py",
   "mimetype": "text/x-python",
   "name": "python",
   "nbconvert_exporter": "python",
   "pygments_lexer": "ipython2",
   "version": "2.7.15"
  }
 },
 "nbformat": 4,
 "nbformat_minor": 2
}
